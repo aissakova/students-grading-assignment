{
 "cells": [
  {
   "cell_type": "code",
   "execution_count": null,
   "id": "53653b71",
   "metadata": {},
   "outputs": [],
   "source": [
    "import pandas as pd\n",
    "import numpy as np\n",
    "import matplotlib.pyplot as plt\n",
    "import seaborn as sns"
   ]
  },
  {
   "cell_type": "code",
   "execution_count": null,
   "id": "1045cbde",
   "metadata": {},
   "outputs": [],
   "source": [
    "from sklearn.preprocessing import MinMaxScaler\n",
    "from sklearn.linear_model import LinearRegression\n",
    "from sklearn.model_selection import train_test_split\n",
    "from sklearn.metrics import mean_squared_error, r2_score"
   ]
  },
  {
   "cell_type": "code",
   "execution_count": null,
   "id": "33a756a5",
   "metadata": {},
   "outputs": [],
   "source": [
    "df = pd.read_csv(\"Students_Grading_Dataset.csv\")"
   ]
  },
  {
   "cell_type": "code",
   "execution_count": null,
   "id": "dd31b5c6",
   "metadata": {},
   "outputs": [],
   "source": [
    "df.drop_duplicates(inplace=True)"
   ]
  },
  {
   "cell_type": "code",
   "execution_count": null,
   "id": "851f31de",
   "metadata": {},
   "outputs": [],
   "source": [
    "df.dropna(inplace=True)"
   ]
  },
  {
   "cell_type": "code",
   "execution_count": null,
   "id": "2455f604",
   "metadata": {},
   "outputs": [],
   "source": [
    "df.drop(columns=[\"Student_ID\", \"First_Name\", \"Last_Name\", \"Email\"], inplace=True)"
   ]
  },
  {
   "cell_type": "code",
   "execution_count": null,
   "id": "885016c9",
   "metadata": {},
   "outputs": [],
   "source": [
    "df = pd.get_dummies(df, drop_first=True)"
   ]
  },
  {
   "cell_type": "code",
   "execution_count": null,
   "id": "c86c6285",
   "metadata": {},
   "outputs": [],
   "source": [
    "scaler = MinMaxScaler()\n",
    "num_cols = ['Age', 'Attendance (%)', 'Midterm_Score', 'Final_Score',\n",
    "            'Projects_Score', 'Total_Score', 'Study_Hours_per_Week',\n",
    "            'Stress_Level (1-10)', 'Sleep_Hours_per_Night']\n",
    "df[num_cols] = scaler.fit_transform(df[num_cols])"
   ]
  },
  {
   "cell_type": "code",
   "execution_count": null,
   "id": "abba2fe3",
   "metadata": {},
   "outputs": [],
   "source": [
    "features = ['Attendance (%)', 'Midterm_Score', 'Final_Score',\n",
    "            'Projects_Score', 'Study_Hours_per_Week']\n",
    "target = 'Total_Score'"
   ]
  },
  {
   "cell_type": "code",
   "execution_count": null,
   "id": "1d20ae95",
   "metadata": {},
   "outputs": [],
   "source": [
    "X = df[features]\n",
    "y = df[target]"
   ]
  },
  {
   "cell_type": "code",
   "execution_count": null,
   "id": "cbc1a52f",
   "metadata": {},
   "outputs": [],
   "source": [
    "X_train, X_test, y_train, y_test = train_test_split(X, y, test_size=0.2, random_state=42)"
   ]
  },
  {
   "cell_type": "code",
   "execution_count": null,
   "id": "e0a68f3e",
   "metadata": {},
   "outputs": [],
   "source": [
    "model = LinearRegression()\n",
    "model.fit(X_train, y_train)"
   ]
  },
  {
   "cell_type": "code",
   "execution_count": null,
   "id": "5eaf8050",
   "metadata": {},
   "outputs": [],
   "source": [
    "y_pred = model.predict(X_test)\n",
    "print(\"R2 Score:\", r2_score(y_test, y_pred))\n",
    "print(\"MSE:\", mean_squared_error(y_test, y_pred))"
   ]
  },
  {
   "cell_type": "code",
   "execution_count": null,
   "id": "48702ba3",
   "metadata": {},
   "outputs": [],
   "source": [
    "plt.figure(figsize=(10, 6))\n",
    "sns.histplot(df['Total_Score'], kde=True)\n",
    "plt.title('Distribution of Total Scores')\n",
    "plt.xlabel('Total Score')\n",
    "plt.ylabel('Frequency')\n",
    "plt.tight_layout()\n",
    "plt.savefig(\"total_score_histogram.png\")\n",
    "plt.show()"
   ]
  },
  {
   "cell_type": "code",
   "execution_count": null,
   "id": "807341b1",
   "metadata": {},
   "outputs": [],
   "source": [
    "df['Score_Level'] = pd.cut(df['Total_Score'],\n",
    "                           bins=[0, 0.33, 0.66, 1.0],\n",
    "                           labels=['Low', 'Medium', 'High'])"
   ]
  },
  {
   "cell_type": "code",
   "execution_count": null,
   "id": "33982444",
   "metadata": {},
   "outputs": [],
   "source": [
    "print(df[['Total_Score', 'Score_Level']].head())"
   ]
  }
 ],
 "metadata": {},
 "nbformat": 4,
 "nbformat_minor": 5
}

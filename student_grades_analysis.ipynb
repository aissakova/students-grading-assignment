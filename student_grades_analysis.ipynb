{
 "cells": [
  {
   "cell_type": "code",
   "execution_count": null,
   "id": "e304b316",
   "metadata": {},
   "outputs": [],
   "source": [
    "# Import Libraries\n",
    "import pandas as pd\n",
    "import numpy as np\n",
    "import matplotlib.pyplot as plt\n",
    "import seaborn as sns"
   ]
  },
  {
   "cell_type": "code",
   "execution_count": null,
   "id": "2264de16",
   "metadata": {},
   "outputs": [],
   "source": [
    "from sklearn.preprocessing import MinMaxScaler\n",
    "from sklearn.linear_model import LinearRegression\n",
    "from sklearn.model_selection import train_test_split\n",
    "from sklearn.metrics import mean_squared_error, r2_score"
   ]
  },
  {
   "cell_type": "code",
   "execution_count": null,
   "id": "9c5f2dec",
   "metadata": {},
   "outputs": [],
   "source": [
    "# Load Dataset\n",
    "df = pd.read_csv(\"Students_Grading_Dataset.csv\")"
   ]
  },
  {
   "cell_type": "code",
   "execution_count": null,
   "id": "7aaaf8bb",
   "metadata": {},
   "outputs": [],
   "source": [
    "# ----------------- Data Cleaning -----------------\n",
    "# Drop duplicates\n",
    "df.drop_duplicates(inplace=True)"
   ]
  },
  {
   "cell_type": "code",
   "execution_count": null,
   "id": "5563466b",
   "metadata": {},
   "outputs": [],
   "source": [
    "# Handle missing values\n",
    "df.dropna(inplace=True)"
   ]
  },
  {
   "cell_type": "code",
   "execution_count": null,
   "id": "5c73d9c2",
   "metadata": {},
   "outputs": [],
   "source": [
    "# Drop irrelevant columns\n",
    "df.drop(columns=[\"Student_ID\", \"First_Name\", \"Last_Name\", \"Email\"], inplace=True)"
   ]
  },
  {
   "cell_type": "code",
   "execution_count": null,
   "id": "3b1d1519",
   "metadata": {},
   "outputs": [],
   "source": [
    "# Convert categorical variables\n",
    "df = pd.get_dummies(df, drop_first=True)"
   ]
  },
  {
   "cell_type": "code",
   "execution_count": null,
   "id": "9d2d2beb",
   "metadata": {},
   "outputs": [],
   "source": [
    "# ----------------- Data Transformation -----------------\n",
    "# Normalize numeric columns\n",
    "scaler = MinMaxScaler()\n",
    "num_cols = ['Age', 'Attendance (%)', 'Midterm_Score', 'Final_Score',\n",
    "            'Projects_Score', 'Total_Score', 'Study_Hours_per_Week',\n",
    "            'Stress_Level (1-10)', 'Sleep_Hours_per_Night']\n",
    "df[num_cols] = scaler.fit_transform(df[num_cols])"
   ]
  },
  {
   "cell_type": "code",
   "execution_count": null,
   "id": "76f781d2",
   "metadata": {},
   "outputs": [],
   "source": [
    "# ----------------- Data Reduction -----------------\n",
    "# Attribute subset selection\n",
    "features = ['Attendance (%)', 'Midterm_Score', 'Final_Score',\n",
    "            'Projects_Score', 'Study_Hours_per_Week']\n",
    "target = 'Total_Score'"
   ]
  },
  {
   "cell_type": "code",
   "execution_count": null,
   "id": "8648daa2",
   "metadata": {},
   "outputs": [],
   "source": [
    "X = df[features]\n",
    "y = df[target]"
   ]
  },
  {
   "cell_type": "code",
   "execution_count": null,
   "id": "b70cf947",
   "metadata": {},
   "outputs": [],
   "source": [
    "# ----------------- Modeling -----------------\n",
    "X_train, X_test, y_train, y_test = train_test_split(X, y, test_size=0.2, random_state=42)\n",
    "model = LinearRegression()\n",
    "model.fit(X_train, y_train)"
   ]
  },
  {
   "cell_type": "code",
   "execution_count": null,
   "id": "a695829b",
   "metadata": {},
   "outputs": [],
   "source": [
    "# Prediction and Evaluation\n",
    "y_pred = model.predict(X_test)\n",
    "print(\"R2 Score:\", r2_score(y_test, y_pred))\n",
    "print(\"MSE:\", mean_squared_error(y_test, y_pred))"
   ]
  },
  {
   "cell_type": "code",
   "execution_count": null,
   "id": "1c5803b0",
   "metadata": {},
   "outputs": [],
   "source": [
    "# ----------------- Histogram Analysis -----------------\n",
    "plt.figure(figsize=(10, 6))\n",
    "sns.histplot(df['Total_Score'], kde=True)\n",
    "plt.title('Distribution of Total Scores')\n",
    "plt.xlabel('Total Score')\n",
    "plt.ylabel('Frequency')\n",
    "plt.tight_layout()\n",
    "plt.savefig(\"total_score_histogram.png\")\n",
    "plt.show()"
   ]
  }
 ],
 "metadata": {},
 "nbformat": 4,
 "nbformat_minor": 5
}
